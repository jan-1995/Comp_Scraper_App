{
 "cells": [
  {
   "cell_type": "code",
   "execution_count": 1,
   "metadata": {},
   "outputs": [],
   "source": [
    "import streamlit as st\n",
    "import pandas as pd\n",
    "import plotly.express as px\n",
    "API_KEY='a45d27d3-5b49-448d-9959-c3950744a918'\n",
    "import requests\n",
    "import io\n",
    "import base64\n",
    "import folium\n",
    "import pydeck as pdk"
   ]
  },
  {
   "cell_type": "code",
   "execution_count": 4,
   "metadata": {},
   "outputs": [],
   "source": [
    "\n",
    "user_input='https://www.zillow.com/gilbert-sc-29054/sold/?searchQueryState=%7B%22mapBounds%22%3A%7B%22north%22%3A34.095266698799236%2C%22east%22%3A-81.01262931542968%2C%22south%22%3A33.76539888865622%2C%22west%22%3A-81.5523326845703%7D%2C%22isMapVisible%22%3Atrue%2C%22filterState%22%3A%7B%22lot%22%3A%7B%22min%22%3A43560%2C%22max%22%3A217800%7D%2C%22doz%22%3A%7B%22value%22%3A%2236m%22%7D%2C%22sort%22%3A%7B%22value%22%3A%22globalrelevanceex%22%7D%2C%22fsba%22%3A%7B%22value%22%3Afalse%7D%2C%22fsbo%22%3A%7B%22value%22%3Afalse%7D%2C%22nc%22%3A%7B%22value%22%3Afalse%7D%2C%22fore%22%3A%7B%22value%22%3Afalse%7D%2C%22cmsn%22%3A%7B%22value%22%3Afalse%7D%2C%22auc%22%3A%7B%22value%22%3Afalse%7D%2C%22rs%22%3A%7B%22value%22%3Atrue%7D%2C%22ah%22%3A%7B%22value%22%3Atrue%7D%2C%22sf%22%3A%7B%22value%22%3Afalse%7D%2C%22con%22%3A%7B%22value%22%3Afalse%7D%2C%22mf%22%3A%7B%22value%22%3Afalse%7D%2C%22manu%22%3A%7B%22value%22%3Afalse%7D%2C%22tow%22%3A%7B%22value%22%3Afalse%7D%2C%22apa%22%3A%7B%22value%22%3Afalse%7D%2C%22apco%22%3A%7B%22value%22%3Afalse%7D%7D%2C%22isListVisible%22%3Atrue%2C%22regionSelection%22%3A%5B%7B%22regionId%22%3A70281%2C%22regionType%22%3A7%7D%2C%7B%22regionId%22%3A70295%2C%22regionType%22%3A7%7D%5D%2C%22pagination%22%3A%7B%7D%2C%22mapZoom%22%3A11%7D'\n",
    "if user_input==None:\n",
    "    st.write(\"Please provide a Zillow Listings Page link to proceed.\")\n",
    "\n",
    "if user_input is not None and user_input !=\"\":\n",
    "    \n",
    "    \n",
    "    url = \"https://app.scrapeak.com/v1/scrapers/zillow/listing\"\n",
    "    querystring = {\n",
    "        \"api_key\": API_KEY,\n",
    "        \"url\": user_input\n",
    "    }\n",
    "\n",
    "    listing_response = requests.request(\"GET\", url, params=querystring)\n",
    "\n",
    "    try:\n",
    "        \n",
    "        data = listing_response.json()['data']['cat1']['searchResults']['mapResults']\n",
    "        df = pd.json_normalize(data)\n",
    "        \n",
    "        df['price']=df['hdpData.homeInfo.price']\n",
    "        df['price']=df['price'].astype(str)\n",
    "        df['price']=df['price'].str.replace(',','')\n",
    "        df['price']=df['price'].astype(float)\n",
    "\n",
    "\n",
    "        df['LOT_ACREAGE']=df['lotAreaString']\n",
    "        df['LOT_ACREAGE']=df['LOT_ACREAGE'].str.strip()\n",
    "        df['LOT_ACREAGE']=df['LOT_ACREAGE'].astype(str)\n",
    "        df['LOT_ACREAGE']=df['LOT_ACREAGE'].str.replace('acres','')\n",
    "\n",
    "        df['LOT_ACREAGE']=df['LOT_ACREAGE'].astype(float)\n",
    "\n",
    "    except Exception as e:\n",
    "        raise print(Exception)"
   ]
  },
  {
   "cell_type": "code",
   "execution_count": 6,
   "metadata": {},
   "outputs": [
    {
     "data": {
      "text/plain": [
       "Index(['zpid', 'price', 'priceLabel', 'beds', 'baths', 'area', 'lotAreaString',\n",
       "       'statusType', 'statusText', 'isFavorite', 'isUserClaimingOwner',\n",
       "       'isUserConfirmedClaim', 'imgSrc', 'hasImage', 'visited', 'listingType',\n",
       "       'shouldShowZestimateAsPrice', 'detailUrl', 'pgapt', 'sgapt',\n",
       "       'has3DModel', 'hasVideo', 'isHomeRec', 'address',\n",
       "       'hasAdditionalAttributions', 'isFeaturedListing', 'isShowcaseListing',\n",
       "       'availabilityDate', 'latLong.latitude', 'latLong.longitude',\n",
       "       'variableData.type', 'variableData.text', 'hdpData.homeInfo.zpid',\n",
       "       'hdpData.homeInfo.streetAddress', 'hdpData.homeInfo.zipcode',\n",
       "       'hdpData.homeInfo.city', 'hdpData.homeInfo.state',\n",
       "       'hdpData.homeInfo.latitude', 'hdpData.homeInfo.longitude',\n",
       "       'hdpData.homeInfo.price', 'hdpData.homeInfo.dateSold',\n",
       "       'hdpData.homeInfo.bathrooms', 'hdpData.homeInfo.bedrooms',\n",
       "       'hdpData.homeInfo.livingArea', 'hdpData.homeInfo.homeType',\n",
       "       'hdpData.homeInfo.homeStatus', 'hdpData.homeInfo.daysOnZillow',\n",
       "       'hdpData.homeInfo.isFeatured', 'hdpData.homeInfo.shouldHighlight',\n",
       "       'hdpData.homeInfo.rentZestimate', 'hdpData.homeInfo.isUnmappable',\n",
       "       'hdpData.homeInfo.isPreforeclosureAuction',\n",
       "       'hdpData.homeInfo.homeStatusForHDP', 'hdpData.homeInfo.priceForHDP',\n",
       "       'hdpData.homeInfo.isNonOwnerOccupied',\n",
       "       'hdpData.homeInfo.isPremierBuilder', 'hdpData.homeInfo.isZillowOwned',\n",
       "       'hdpData.homeInfo.currency', 'hdpData.homeInfo.country',\n",
       "       'hdpData.homeInfo.taxAssessedValue', 'hdpData.homeInfo.lotAreaValue',\n",
       "       'hdpData.homeInfo.lotAreaUnit', 'hdpData.homeInfo.isShowcaseListing',\n",
       "       'streetViewMetadataURL', 'streetViewURL', 'hdpData.homeInfo.zestimate',\n",
       "       'buildingId', 'lotId', 'minBeds', 'minBaths', 'minArea', 'unitCount',\n",
       "       'isBuilding', 'badgeInfo', 'canSaveBuilding', 'timeOnZillow',\n",
       "       'hdpData.homeInfo.listing_sub_type.is_FSBA', 'LOT_ACREAGE'],\n",
       "      dtype='object')"
      ]
     },
     "execution_count": 6,
     "metadata": {},
     "output_type": "execute_result"
    }
   ],
   "source": [
    "df.columns"
   ]
  },
  {
   "cell_type": "code",
   "execution_count": 8,
   "metadata": {},
   "outputs": [],
   "source": [
    "df.to_csv('data.csv', index=False)"
   ]
  }
 ],
 "metadata": {
  "kernelspec": {
   "display_name": "st_playground",
   "language": "python",
   "name": "python3"
  },
  "language_info": {
   "codemirror_mode": {
    "name": "ipython",
    "version": 3
   },
   "file_extension": ".py",
   "mimetype": "text/x-python",
   "name": "python",
   "nbconvert_exporter": "python",
   "pygments_lexer": "ipython3",
   "version": "3.11.0"
  },
  "orig_nbformat": 4
 },
 "nbformat": 4,
 "nbformat_minor": 2
}
